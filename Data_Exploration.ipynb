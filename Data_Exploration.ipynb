{
  "nbformat": 4,
  "nbformat_minor": 0,
  "metadata": {
    "colab": {
      "provenance": []
    },
    "kernelspec": {
      "name": "python3",
      "display_name": "Python 3"
    },
    "language_info": {
      "name": "python"
    }
  },
  "cells": [
    {
      "cell_type": "code",
      "execution_count": 2,
      "metadata": {
        "colab": {
          "base_uri": "https://localhost:8080/",
          "height": 142
        },
        "id": "VBRny6w_zCqE",
        "outputId": "a0c66e7c-8fc0-4cf0-df80-46b6a678140e"
      },
      "outputs": [
        {
          "output_type": "display_data",
          "data": {
            "text/plain": [
              "<IPython.core.display.HTML object>"
            ],
            "text/html": [
              "\n",
              "     <input type=\"file\" id=\"files-85421d05-d63e-428a-b93a-17028349e867\" name=\"files[]\" multiple disabled\n",
              "        style=\"border:none\" />\n",
              "     <output id=\"result-85421d05-d63e-428a-b93a-17028349e867\">\n",
              "      Upload widget is only available when the cell has been executed in the\n",
              "      current browser session. Please rerun this cell to enable.\n",
              "      </output>\n",
              "      <script>// Copyright 2017 Google LLC\n",
              "//\n",
              "// Licensed under the Apache License, Version 2.0 (the \"License\");\n",
              "// you may not use this file except in compliance with the License.\n",
              "// You may obtain a copy of the License at\n",
              "//\n",
              "//      http://www.apache.org/licenses/LICENSE-2.0\n",
              "//\n",
              "// Unless required by applicable law or agreed to in writing, software\n",
              "// distributed under the License is distributed on an \"AS IS\" BASIS,\n",
              "// WITHOUT WARRANTIES OR CONDITIONS OF ANY KIND, either express or implied.\n",
              "// See the License for the specific language governing permissions and\n",
              "// limitations under the License.\n",
              "\n",
              "/**\n",
              " * @fileoverview Helpers for google.colab Python module.\n",
              " */\n",
              "(function(scope) {\n",
              "function span(text, styleAttributes = {}) {\n",
              "  const element = document.createElement('span');\n",
              "  element.textContent = text;\n",
              "  for (const key of Object.keys(styleAttributes)) {\n",
              "    element.style[key] = styleAttributes[key];\n",
              "  }\n",
              "  return element;\n",
              "}\n",
              "\n",
              "// Max number of bytes which will be uploaded at a time.\n",
              "const MAX_PAYLOAD_SIZE = 100 * 1024;\n",
              "\n",
              "function _uploadFiles(inputId, outputId) {\n",
              "  const steps = uploadFilesStep(inputId, outputId);\n",
              "  const outputElement = document.getElementById(outputId);\n",
              "  // Cache steps on the outputElement to make it available for the next call\n",
              "  // to uploadFilesContinue from Python.\n",
              "  outputElement.steps = steps;\n",
              "\n",
              "  return _uploadFilesContinue(outputId);\n",
              "}\n",
              "\n",
              "// This is roughly an async generator (not supported in the browser yet),\n",
              "// where there are multiple asynchronous steps and the Python side is going\n",
              "// to poll for completion of each step.\n",
              "// This uses a Promise to block the python side on completion of each step,\n",
              "// then passes the result of the previous step as the input to the next step.\n",
              "function _uploadFilesContinue(outputId) {\n",
              "  const outputElement = document.getElementById(outputId);\n",
              "  const steps = outputElement.steps;\n",
              "\n",
              "  const next = steps.next(outputElement.lastPromiseValue);\n",
              "  return Promise.resolve(next.value.promise).then((value) => {\n",
              "    // Cache the last promise value to make it available to the next\n",
              "    // step of the generator.\n",
              "    outputElement.lastPromiseValue = value;\n",
              "    return next.value.response;\n",
              "  });\n",
              "}\n",
              "\n",
              "/**\n",
              " * Generator function which is called between each async step of the upload\n",
              " * process.\n",
              " * @param {string} inputId Element ID of the input file picker element.\n",
              " * @param {string} outputId Element ID of the output display.\n",
              " * @return {!Iterable<!Object>} Iterable of next steps.\n",
              " */\n",
              "function* uploadFilesStep(inputId, outputId) {\n",
              "  const inputElement = document.getElementById(inputId);\n",
              "  inputElement.disabled = false;\n",
              "\n",
              "  const outputElement = document.getElementById(outputId);\n",
              "  outputElement.innerHTML = '';\n",
              "\n",
              "  const pickedPromise = new Promise((resolve) => {\n",
              "    inputElement.addEventListener('change', (e) => {\n",
              "      resolve(e.target.files);\n",
              "    });\n",
              "  });\n",
              "\n",
              "  const cancel = document.createElement('button');\n",
              "  inputElement.parentElement.appendChild(cancel);\n",
              "  cancel.textContent = 'Cancel upload';\n",
              "  const cancelPromise = new Promise((resolve) => {\n",
              "    cancel.onclick = () => {\n",
              "      resolve(null);\n",
              "    };\n",
              "  });\n",
              "\n",
              "  // Wait for the user to pick the files.\n",
              "  const files = yield {\n",
              "    promise: Promise.race([pickedPromise, cancelPromise]),\n",
              "    response: {\n",
              "      action: 'starting',\n",
              "    }\n",
              "  };\n",
              "\n",
              "  cancel.remove();\n",
              "\n",
              "  // Disable the input element since further picks are not allowed.\n",
              "  inputElement.disabled = true;\n",
              "\n",
              "  if (!files) {\n",
              "    return {\n",
              "      response: {\n",
              "        action: 'complete',\n",
              "      }\n",
              "    };\n",
              "  }\n",
              "\n",
              "  for (const file of files) {\n",
              "    const li = document.createElement('li');\n",
              "    li.append(span(file.name, {fontWeight: 'bold'}));\n",
              "    li.append(span(\n",
              "        `(${file.type || 'n/a'}) - ${file.size} bytes, ` +\n",
              "        `last modified: ${\n",
              "            file.lastModifiedDate ? file.lastModifiedDate.toLocaleDateString() :\n",
              "                                    'n/a'} - `));\n",
              "    const percent = span('0% done');\n",
              "    li.appendChild(percent);\n",
              "\n",
              "    outputElement.appendChild(li);\n",
              "\n",
              "    const fileDataPromise = new Promise((resolve) => {\n",
              "      const reader = new FileReader();\n",
              "      reader.onload = (e) => {\n",
              "        resolve(e.target.result);\n",
              "      };\n",
              "      reader.readAsArrayBuffer(file);\n",
              "    });\n",
              "    // Wait for the data to be ready.\n",
              "    let fileData = yield {\n",
              "      promise: fileDataPromise,\n",
              "      response: {\n",
              "        action: 'continue',\n",
              "      }\n",
              "    };\n",
              "\n",
              "    // Use a chunked sending to avoid message size limits. See b/62115660.\n",
              "    let position = 0;\n",
              "    do {\n",
              "      const length = Math.min(fileData.byteLength - position, MAX_PAYLOAD_SIZE);\n",
              "      const chunk = new Uint8Array(fileData, position, length);\n",
              "      position += length;\n",
              "\n",
              "      const base64 = btoa(String.fromCharCode.apply(null, chunk));\n",
              "      yield {\n",
              "        response: {\n",
              "          action: 'append',\n",
              "          file: file.name,\n",
              "          data: base64,\n",
              "        },\n",
              "      };\n",
              "\n",
              "      let percentDone = fileData.byteLength === 0 ?\n",
              "          100 :\n",
              "          Math.round((position / fileData.byteLength) * 100);\n",
              "      percent.textContent = `${percentDone}% done`;\n",
              "\n",
              "    } while (position < fileData.byteLength);\n",
              "  }\n",
              "\n",
              "  // All done.\n",
              "  yield {\n",
              "    response: {\n",
              "      action: 'complete',\n",
              "    }\n",
              "  };\n",
              "}\n",
              "\n",
              "scope.google = scope.google || {};\n",
              "scope.google.colab = scope.google.colab || {};\n",
              "scope.google.colab._files = {\n",
              "  _uploadFiles,\n",
              "  _uploadFilesContinue,\n",
              "};\n",
              "})(self);\n",
              "</script> "
            ]
          },
          "metadata": {}
        },
        {
          "output_type": "stream",
          "name": "stdout",
          "text": [
            "Saving PRODUCTS.csv to PRODUCTS.csv\n",
            "Saving TRANSACTIONS.csv to TRANSACTIONS.csv\n",
            "Saving USER.csv to USER.csv\n"
          ]
        }
      ],
      "source": [
        "from google.colab import files\n",
        "\n",
        "# Upload files manually\n",
        "uploaded = files.upload()\n",
        "\n"
      ]
    },
    {
      "cell_type": "code",
      "source": [
        "import os\n",
        "\n",
        "# List files in the current directory\n",
        "print(os.listdir(\"/content\"))\n"
      ],
      "metadata": {
        "colab": {
          "base_uri": "https://localhost:8080/",
          "height": 0
        },
        "id": "L72NDg0D2Bd7",
        "outputId": "eb9359ac-1afc-4263-fd7f-16ac2831e236"
      },
      "execution_count": 3,
      "outputs": [
        {
          "output_type": "stream",
          "name": "stdout",
          "text": [
            "['.config', 'PRODUCTS.csv', 'USER.csv', 'TRANSACTIONS.csv', 'sample_data']\n"
          ]
        }
      ]
    },
    {
      "cell_type": "code",
      "source": [
        "import pandas as pd\n",
        "\n",
        "# Define the correct file paths for Colab\n",
        "transactions_path = \"/content/TRANSACTIONS.csv\"\n",
        "users_path = \"/content/USER.csv\"\n",
        "products_path = \"/content/PRODUCTS.csv\"\n",
        "\n",
        "# Load CSV files into Pandas DataFrames\n",
        "df_transactions = pd.read_csv(transactions_path)\n",
        "df_users = pd.read_csv(users_path)\n",
        "df_products = pd.read_csv(products_path)\n",
        "\n",
        "# Display first few rows\n",
        "print(\"Transactions Data:\")\n",
        "print(df_transactions.head())\n",
        "\n",
        "print(\"\\n Users Data:\")\n",
        "print(df_users.head())\n",
        "\n",
        "print(\"\\n Products Data:\")\n",
        "print(df_products.head())\n"
      ],
      "metadata": {
        "colab": {
          "base_uri": "https://localhost:8080/",
          "height": 0
        },
        "id": "hG2FMcmv2IC9",
        "outputId": "27e7061e-3d6d-4588-bff8-f3949be670b6"
      },
      "execution_count": 4,
      "outputs": [
        {
          "output_type": "stream",
          "name": "stdout",
          "text": [
            "Transactions Data:\n",
            "                             RECEIPT_ID PURCHASE_DATE  \\\n",
            "0  0000d256-4041-4a3e-adc4-5623fb6e0c99    2024-08-21   \n",
            "1  0001455d-7a92-4a7b-a1d2-c747af1c8fd3    2024-07-20   \n",
            "2  00017e0a-7851-42fb-bfab-0baa96e23586    2024-08-18   \n",
            "3  000239aa-3478-453d-801e-66a82e39c8af    2024-06-18   \n",
            "4  00026b4c-dfe8-49dd-b026-4c2f0fd5c6a1    2024-07-04   \n",
            "\n",
            "                   SCAN_DATE STORE_NAME                   USER_ID  \\\n",
            "0  2024-08-21 14:19:06.539 Z    WALMART  63b73a7f3d310dceeabd4758   \n",
            "1  2024-07-20 09:50:24.206 Z       ALDI  62c08877baa38d1a1f6c211a   \n",
            "2  2024-08-19 15:38:56.813 Z    WALMART  60842f207ac8b7729e472020   \n",
            "3  2024-06-19 11:03:37.468 Z  FOOD LION  63fcd7cea4f8442c3386b589   \n",
            "4  2024-07-05 15:56:43.549 Z   RANDALLS  6193231ae9b3d75037b0f928   \n",
            "\n",
            "        BARCODE FINAL_QUANTITY FINAL_SALE  \n",
            "0  1.530001e+10           1.00             \n",
            "1           NaN           zero       1.49  \n",
            "2  7.874223e+10           1.00             \n",
            "3  7.833997e+11           zero       3.49  \n",
            "4  4.790050e+10           1.00             \n",
            "\n",
            " Users Data:\n",
            "                         ID               CREATED_DATE  \\\n",
            "0  5ef3b4f17053ab141787697d  2020-06-24 20:17:54.000 Z   \n",
            "1  5ff220d383fcfc12622b96bc  2021-01-03 19:53:55.000 Z   \n",
            "2  6477950aa55bb77a0e27ee10  2023-05-31 18:42:18.000 Z   \n",
            "3  658a306e99b40f103b63ccf8  2023-12-26 01:46:22.000 Z   \n",
            "4  653cf5d6a225ea102b7ecdc2  2023-10-28 11:51:50.000 Z   \n",
            "\n",
            "                  BIRTH_DATE STATE LANGUAGE  GENDER  \n",
            "0  2000-08-11 00:00:00.000 Z    CA   es-419  female  \n",
            "1  2001-09-24 04:00:00.000 Z    PA       en  female  \n",
            "2  1994-10-28 00:00:00.000 Z    FL   es-419  female  \n",
            "3                        NaN    NC       en     NaN  \n",
            "4  1972-03-19 00:00:00.000 Z    PA       en  female  \n",
            "\n",
            " Products Data:\n",
            "          CATEGORY_1              CATEGORY_2                   CATEGORY_3  \\\n",
            "0  Health & Wellness           Sexual Health  Conductivity Gels & Lotions   \n",
            "1             Snacks           Puffed Snacks         Cheese Curls & Puffs   \n",
            "2  Health & Wellness               Hair Care        Hair Care Accessories   \n",
            "3  Health & Wellness               Oral Care                   Toothpaste   \n",
            "4  Health & Wellness  Medicines & Treatments               Essential Oils   \n",
            "\n",
            "  CATEGORY_4                                       MANUFACTURER  \\\n",
            "0        NaN                                                NaN   \n",
            "1        NaN                                                NaN   \n",
            "2        NaN                           PLACEHOLDER MANUFACTURER   \n",
            "3        NaN                                  COLGATE-PALMOLIVE   \n",
            "4        NaN  MAPLE HOLISTICS AND HONEYDEW PRODUCTS INTERCHA...   \n",
            "\n",
            "             BRAND       BARCODE  \n",
            "0              NaN  7.964944e+11  \n",
            "1              NaN  2.327801e+10  \n",
            "2          ELECSOP  4.618178e+11  \n",
            "3          COLGATE  3.500047e+10  \n",
            "4  MAPLE HOLISTICS  8.068109e+11  \n"
          ]
        }
      ]
    },
    {
      "cell_type": "code",
      "source": [
        "# Check data types and missing values\n",
        "print(\"\\n Transactions Data:\")\n",
        "print(df_transactions.info())\n",
        "print(df_transactions.isnull().sum())\n",
        "\n",
        "print(\"\\n Users Data:\")\n",
        "print(df_users.info())\n",
        "print(df_users.isnull().sum())\n",
        "\n",
        "print(\"\\n Products Data:\")\n",
        "print(df_products.info())\n",
        "print(df_products.isnull().sum())\n"
      ],
      "metadata": {
        "colab": {
          "base_uri": "https://localhost:8080/",
          "height": 0
        },
        "id": "AmNjWXuJ2gYb",
        "outputId": "559fea49-079c-48cc-c31a-1643faee5d9f"
      },
      "execution_count": 5,
      "outputs": [
        {
          "output_type": "stream",
          "name": "stdout",
          "text": [
            "\n",
            " Transactions Data:\n",
            "<class 'pandas.core.frame.DataFrame'>\n",
            "RangeIndex: 50000 entries, 0 to 49999\n",
            "Data columns (total 8 columns):\n",
            " #   Column          Non-Null Count  Dtype  \n",
            "---  ------          --------------  -----  \n",
            " 0   RECEIPT_ID      50000 non-null  object \n",
            " 1   PURCHASE_DATE   50000 non-null  object \n",
            " 2   SCAN_DATE       50000 non-null  object \n",
            " 3   STORE_NAME      50000 non-null  object \n",
            " 4   USER_ID         50000 non-null  object \n",
            " 5   BARCODE         44238 non-null  float64\n",
            " 6   FINAL_QUANTITY  50000 non-null  object \n",
            " 7   FINAL_SALE      50000 non-null  object \n",
            "dtypes: float64(1), object(7)\n",
            "memory usage: 3.1+ MB\n",
            "None\n",
            "RECEIPT_ID           0\n",
            "PURCHASE_DATE        0\n",
            "SCAN_DATE            0\n",
            "STORE_NAME           0\n",
            "USER_ID              0\n",
            "BARCODE           5762\n",
            "FINAL_QUANTITY       0\n",
            "FINAL_SALE           0\n",
            "dtype: int64\n",
            "\n",
            " Users Data:\n",
            "<class 'pandas.core.frame.DataFrame'>\n",
            "RangeIndex: 100000 entries, 0 to 99999\n",
            "Data columns (total 6 columns):\n",
            " #   Column        Non-Null Count   Dtype \n",
            "---  ------        --------------   ----- \n",
            " 0   ID            100000 non-null  object\n",
            " 1   CREATED_DATE  100000 non-null  object\n",
            " 2   BIRTH_DATE    96325 non-null   object\n",
            " 3   STATE         95188 non-null   object\n",
            " 4   LANGUAGE      69492 non-null   object\n",
            " 5   GENDER        94108 non-null   object\n",
            "dtypes: object(6)\n",
            "memory usage: 4.6+ MB\n",
            "None\n",
            "ID                  0\n",
            "CREATED_DATE        0\n",
            "BIRTH_DATE       3675\n",
            "STATE            4812\n",
            "LANGUAGE        30508\n",
            "GENDER           5892\n",
            "dtype: int64\n",
            "\n",
            " Products Data:\n",
            "<class 'pandas.core.frame.DataFrame'>\n",
            "RangeIndex: 845552 entries, 0 to 845551\n",
            "Data columns (total 7 columns):\n",
            " #   Column        Non-Null Count   Dtype  \n",
            "---  ------        --------------   -----  \n",
            " 0   CATEGORY_1    845441 non-null  object \n",
            " 1   CATEGORY_2    844128 non-null  object \n",
            " 2   CATEGORY_3    784986 non-null  object \n",
            " 3   CATEGORY_4    67459 non-null   object \n",
            " 4   MANUFACTURER  619078 non-null  object \n",
            " 5   BRAND         619080 non-null  object \n",
            " 6   BARCODE       841527 non-null  float64\n",
            "dtypes: float64(1), object(6)\n",
            "memory usage: 45.2+ MB\n",
            "None\n",
            "CATEGORY_1         111\n",
            "CATEGORY_2        1424\n",
            "CATEGORY_3       60566\n",
            "CATEGORY_4      778093\n",
            "MANUFACTURER    226474\n",
            "BRAND           226472\n",
            "BARCODE           4025\n",
            "dtype: int64\n"
          ]
        }
      ]
    },
    {
      "cell_type": "markdown",
      "source": [
        "### **Data Quality Check: Overview**\n",
        "\n",
        "#### **1. Transactions Data:**\n",
        "- **Data Types:**\n",
        "  - `FINAL_QUANTITY` and `FINAL_SALE` should be numeric (`float`).\n",
        "  - `PURCHASE_DATE` and `SCAN_DATE` need to be converted to `datetime`.\n",
        "  - `BARCODE` is a float, but should be treated as a string.\n",
        "\n",
        "- **Missing Values:**\n",
        "  - **BARCODE:** 5762 missing values (~12%).\n",
        "  - No missing values in `RECEIPT_ID`, `USER_ID`, `STORE_NAME`, `FINAL_QUANTITY`, or `FINAL_SALE`.\n",
        "\n",
        "#### **2. Users Data:**\n",
        "- **Data Types:**\n",
        "  - All columns are `object` type, but `BIRTH_DATE` should be `datetime`.\n",
        "\n",
        "- **Missing Values:**\n",
        "  - **BIRTH_DATE:** 3,675 missing (~3.7%).\n",
        "  - **STATE:** 4,812 missing (~4.8%).\n",
        "  - **LANGUAGE:** 30,508 missing (~30.5%).\n",
        "  - **GENDER:** 5,892 missing (~5.9%).\n",
        "\n",
        "#### **3. Products Data:**\n",
        "- **Data Types:**\n",
        "  - `CATEGORY_1`, `CATEGORY_2`, `CATEGORY_3`, `CATEGORY_4`, `MANUFACTURER`, `BRAND` are `object`, and `BARCODE` should be a string.\n",
        "\n",
        "- **Missing Values:**\n",
        "  - **CATEGORY_1:** 111 missing.\n",
        "  - **CATEGORY_2:** 1,424 missing.\n",
        "  - **CATEGORY_3:** 60,566 missing.\n",
        "  - **CATEGORY_4:** 778,093 missing (~92%).\n",
        "  - **MANUFACTURER:** 226,474 missing.\n",
        "  - **BRAND:** 226,472 missing.\n",
        "  - **BARCODE:** 4,025 missing.\n",
        "\n",
        "---\n",
        "\n",
        "### **Key Issues:**\n",
        "\n",
        "1. **Transactions Data:**\n",
        "   - Missing `BARCODE` values need attention.\n",
        "   - Non-numeric `FINAL_QUANTITY` and `FINAL_SALE` fields should be converted.\n",
        "   - `PURCHASE_DATE` and `SCAN_DATE` need date conversion.\n",
        "\n",
        "2. **Users Data:**\n",
        "   - Missing values in key demographic fields (`BIRTH_DATE`, `STATE`, `LANGUAGE`, `GENDER`).\n",
        "   - Date conversion needed for `BIRTH_DATE`.\n",
        "\n",
        "3. **Products Data:**\n",
        "   - High missing values in categorical fields like `CATEGORY_4`, `MANUFACTURER`, and `BRAND`.\n",
        "   - `BARCODE` column needs type standardization.\n",
        "\n",
        "---\n",
        "\n",
        "### **Next Steps:**\n",
        "\n",
        "1. **Missing Data Handling:**\n",
        "   - Impute or remove missing values for `STATE`, `LANGUAGE`, `GENDER`, `CATEGORY_1`, `CATEGORY_2`, `CATEGORY_3`, and `CATEGORY_4`.\n",
        "   \n",
        "2. **Data Type Conversion:**\n",
        "   - Convert `FINAL_QUANTITY`, `FINAL_SALE` to numeric.\n",
        "   - Convert `PURCHASE_DATE`, `SCAN_DATE`, and `BIRTH_DATE` to `datetime`.\n",
        "   \n",
        "3. **Barcode Standardization:**\n",
        "   - Ensure `BARCODE` values are treated as strings and preserve leading zeros.\n",
        "\n",
        "---"
      ],
      "metadata": {
        "id": "rsBzxb2ecFRm"
      }
    },
    {
      "cell_type": "code",
      "source": [
        "# Fill missing values with appropriate defaults\n",
        "df_transactions.fillna({'FINAL_QUANTITY': 0}, inplace=True)  # Assuming 0 means no purchase\n",
        "df_users.fillna({'STATE': 'Unknown', 'LANGUAGE': 'Unknown'}, inplace=True)\n",
        "df_products.fillna({'CATEGORY_1': 'Other'}, inplace=True)\n",
        "\n",
        "# Drop rows if a critical column (like ID) is missing\n",
        "df_transactions.dropna(subset=['RECEIPT_ID'], inplace=True)\n",
        "df_users.dropna(subset=['ID'], inplace=True)\n",
        "\n",
        "# Check again for missing values\n",
        "print(\"\\n Missing Values After Fix:\")\n",
        "print(df_transactions.isnull().sum())\n",
        "print(df_users.isnull().sum())\n",
        "print(df_products.isnull().sum())\n"
      ],
      "metadata": {
        "colab": {
          "base_uri": "https://localhost:8080/",
          "height": 0
        },
        "id": "chDE8ixU2hWB",
        "outputId": "ebb94d43-0d4e-403e-9e34-88187da6f378"
      },
      "execution_count": 6,
      "outputs": [
        {
          "output_type": "stream",
          "name": "stdout",
          "text": [
            "\n",
            " Missing Values After Fix:\n",
            "RECEIPT_ID           0\n",
            "PURCHASE_DATE        0\n",
            "SCAN_DATE            0\n",
            "STORE_NAME           0\n",
            "USER_ID              0\n",
            "BARCODE           5762\n",
            "FINAL_QUANTITY       0\n",
            "FINAL_SALE           0\n",
            "dtype: int64\n",
            "ID                 0\n",
            "CREATED_DATE       0\n",
            "BIRTH_DATE      3675\n",
            "STATE              0\n",
            "LANGUAGE           0\n",
            "GENDER          5892\n",
            "dtype: int64\n",
            "CATEGORY_1           0\n",
            "CATEGORY_2        1424\n",
            "CATEGORY_3       60566\n",
            "CATEGORY_4      778093\n",
            "MANUFACTURER    226474\n",
            "BRAND           226472\n",
            "BARCODE           4025\n",
            "dtype: int64\n"
          ]
        }
      ]
    },
    {
      "cell_type": "code",
      "source": [
        "df_transactions.dropna(subset=['BARCODE'], inplace=True)\n",
        "df_products.dropna(subset=['BARCODE'], inplace=True)\n",
        "\n",
        "# Check again for missing values\n",
        "print(\"\\n Missing Values After Fix:\")\n",
        "print(df_transactions.isnull().sum())\n",
        "print(df_users.isnull().sum())\n",
        "print(df_products.isnull().sum())"
      ],
      "metadata": {
        "colab": {
          "base_uri": "https://localhost:8080/"
        },
        "id": "e9FZ94QKP82E",
        "outputId": "04cc61e4-416c-427c-ded4-4cfbb93622ea"
      },
      "execution_count": null,
      "outputs": [
        {
          "output_type": "stream",
          "name": "stdout",
          "text": [
            "\n",
            " Missing Values After Fix:\n",
            "RECEIPT_ID        0\n",
            "PURCHASE_DATE     0\n",
            "SCAN_DATE         0\n",
            "STORE_NAME        0\n",
            "USER_ID           0\n",
            "BARCODE           0\n",
            "FINAL_QUANTITY    0\n",
            "FINAL_SALE        0\n",
            "dtype: int64\n",
            "ID                 0\n",
            "CREATED_DATE       0\n",
            "BIRTH_DATE      3675\n",
            "STATE              0\n",
            "LANGUAGE           0\n",
            "GENDER          5892\n",
            "dtype: int64\n",
            "CATEGORY_1           0\n",
            "CATEGORY_2         661\n",
            "CATEGORY_3       58714\n",
            "CATEGORY_4      774291\n",
            "MANUFACTURER    226227\n",
            "BRAND           226225\n",
            "BARCODE              0\n",
            "dtype: int64\n"
          ]
        }
      ]
    },
    {
      "cell_type": "markdown",
      "source": [
        "### **Missing Values After Fix:**\n",
        "\n",
        "#### **1. Transactions Data:**\n",
        "- **BARCODE:** Still has 5,762 missing values.\n",
        "- **Other Columns:** No missing values remaining after imputation (`FINAL_QUANTITY` filled with 0, `RECEIPT_ID` has no missing values).\n",
        "\n",
        "#### **2. Users Data:**\n",
        "- **BIRTH_DATE:** 3,675 missing values.\n",
        "- **GENDER:** 5,892 missing values.\n",
        "- **STATE and LANGUAGE:** Now filled with default values (`Unknown`), no missing values left.\n",
        "\n",
        "#### **3. Products Data:**\n",
        "- **CATEGORY_2:** 1,424 missing values.\n",
        "- **CATEGORY_3:** 60,566 missing values.\n",
        "- **CATEGORY_4:** 778,093 missing values (almost 92%).\n"
      ],
      "metadata": {
        "id": "mF6jMe2rcsgT"
      }
    },
    {
      "cell_type": "code",
      "source": [
        "# Convert RECEIPT_ID and USER_ID to strings (if needed) and handle missing values\n",
        "df_transactions['RECEIPT_ID'] = df_transactions['RECEIPT_ID'].astype(str).fillna('UNKNOWN')\n",
        "df_transactions['USER_ID'] = df_transactions['USER_ID'].astype(str).fillna('UNKNOWN')\n",
        "\n",
        "# Convert date columns\n",
        "df_transactions['PURCHASE_DATE'] = pd.to_datetime(df_transactions['PURCHASE_DATE'], errors='coerce')\n",
        "df_transactions['SCAN_DATE'] = pd.to_datetime(df_transactions['SCAN_DATE'], errors='coerce')\n",
        "\n",
        "# Convert BARCODE to string and fill missing values with 'UNKNOWN'\n",
        "df_transactions['BARCODE'] = df_transactions['BARCODE'].astype(str).fillna('UNKNOWN')\n",
        "\n",
        "# Convert FINAL_QUANTITY to numeric and handle 'zero' as 0\n",
        "df_transactions['FINAL_QUANTITY'] = df_transactions['FINAL_QUANTITY'].replace('zero', 0)\n",
        "df_transactions['FINAL_QUANTITY'] = pd.to_numeric(df_transactions['FINAL_QUANTITY'], errors='coerce')\n",
        "\n",
        "# Convert FINAL_SALE to numeric, replacing any errors with NaN\n",
        "df_transactions['FINAL_SALE'] = pd.to_numeric(df_transactions['FINAL_SALE'], errors='coerce')\n",
        "\n",
        "# Verify changes\n",
        "print(\"\\n Data Types After Conversion:\")\n",
        "print(df_transactions.dtypes)\n"
      ],
      "metadata": {
        "colab": {
          "base_uri": "https://localhost:8080/"
        },
        "id": "Wf9qDQ6G2oFR",
        "outputId": "85dc6314-265e-47ea-92a6-d714584bd89a"
      },
      "execution_count": null,
      "outputs": [
        {
          "output_type": "stream",
          "name": "stdout",
          "text": [
            "\n",
            " Data Types After Conversion:\n",
            "RECEIPT_ID                     object\n",
            "PURCHASE_DATE          datetime64[ns]\n",
            "SCAN_DATE         datetime64[ns, UTC]\n",
            "STORE_NAME                     object\n",
            "USER_ID                        object\n",
            "BARCODE                        object\n",
            "FINAL_QUANTITY                float64\n",
            "FINAL_SALE                    float64\n",
            "dtype: object\n"
          ]
        }
      ]
    },
    {
      "cell_type": "code",
      "source": [
        "# Convert CREATED_DATE and BIRTH_DATE to datetime\n",
        "df_users['CREATED_DATE'] = pd.to_datetime(df_users['CREATED_DATE'], errors='coerce')\n",
        "df_users['BIRTH_DATE'] = pd.to_datetime(df_users['BIRTH_DATE'], errors='coerce')\n",
        "\n",
        "# Handle missing values in STATE, LANGUAGE, and GENDER\n",
        "df_users['STATE'].fillna('UNKNOWN', inplace=True)\n",
        "df_users['LANGUAGE'].fillna('UNKNOWN', inplace=True)\n",
        "df_users['GENDER'].fillna('UNKNOWN', inplace=True)\n",
        "\n",
        "# Convert ID to string (if needed)\n",
        "df_users['ID'] = df_users['ID'].astype(str)\n",
        "\n",
        "# Verify changes\n",
        "print(\"\\n Data Types After Conversion (Users):\")\n",
        "print(df_users.dtypes)\n"
      ],
      "metadata": {
        "colab": {
          "base_uri": "https://localhost:8080/"
        },
        "id": "UlVBu0sJR9Tf",
        "outputId": "48fbe642-02dc-49e7-daa7-9a40057b1779"
      },
      "execution_count": null,
      "outputs": [
        {
          "output_type": "stream",
          "name": "stdout",
          "text": [
            "\n",
            " Data Types After Conversion (Users):\n",
            "ID                           object\n",
            "CREATED_DATE    datetime64[ns, UTC]\n",
            "BIRTH_DATE      datetime64[ns, UTC]\n",
            "STATE                        object\n",
            "LANGUAGE                     object\n",
            "GENDER                       object\n",
            "dtype: object\n"
          ]
        },
        {
          "output_type": "stream",
          "name": "stderr",
          "text": [
            "<ipython-input-13-6419d140415a>:6: FutureWarning: A value is trying to be set on a copy of a DataFrame or Series through chained assignment using an inplace method.\n",
            "The behavior will change in pandas 3.0. This inplace method will never work because the intermediate object on which we are setting values always behaves as a copy.\n",
            "\n",
            "For example, when doing 'df[col].method(value, inplace=True)', try using 'df.method({col: value}, inplace=True)' or df[col] = df[col].method(value) instead, to perform the operation inplace on the original object.\n",
            "\n",
            "\n",
            "  df_users['STATE'].fillna('UNKNOWN', inplace=True)\n",
            "<ipython-input-13-6419d140415a>:7: FutureWarning: A value is trying to be set on a copy of a DataFrame or Series through chained assignment using an inplace method.\n",
            "The behavior will change in pandas 3.0. This inplace method will never work because the intermediate object on which we are setting values always behaves as a copy.\n",
            "\n",
            "For example, when doing 'df[col].method(value, inplace=True)', try using 'df.method({col: value}, inplace=True)' or df[col] = df[col].method(value) instead, to perform the operation inplace on the original object.\n",
            "\n",
            "\n",
            "  df_users['LANGUAGE'].fillna('UNKNOWN', inplace=True)\n",
            "<ipython-input-13-6419d140415a>:8: FutureWarning: A value is trying to be set on a copy of a DataFrame or Series through chained assignment using an inplace method.\n",
            "The behavior will change in pandas 3.0. This inplace method will never work because the intermediate object on which we are setting values always behaves as a copy.\n",
            "\n",
            "For example, when doing 'df[col].method(value, inplace=True)', try using 'df.method({col: value}, inplace=True)' or df[col] = df[col].method(value) instead, to perform the operation inplace on the original object.\n",
            "\n",
            "\n",
            "  df_users['GENDER'].fillna('UNKNOWN', inplace=True)\n"
          ]
        }
      ]
    },
    {
      "cell_type": "markdown",
      "source": [
        "### **Data Types After Conversion:**\n",
        "\n",
        "- **RECEIPT_ID:** Now a string (object), missing values filled with 'UNKNOWN'.\n",
        "- **PURCHASE_DATE:** Successfully converted to `datetime64[ns]`.\n",
        "- **SCAN_DATE:** Successfully converted to `datetime64[ns, UTC]`.\n",
        "- **STORE_NAME:** Remains as a string (object).\n",
        "- **USER_ID:** Now a string (object), missing values filled with 'UNKNOWN'.\n",
        "- **BARCODE:** Now a string (object), missing values filled with 'UNKNOWN'.\n",
        "- **FINAL_QUANTITY:** Converted to numeric (float64), 'zero' replaced with 0.\n",
        "- **FINAL_SALE:** Converted to numeric (float64), any errors in conversion turned to NaN.\n"
      ],
      "metadata": {
        "id": "4fBvwdhKc45A"
      }
    },
    {
      "cell_type": "code",
      "source": [
        "# ---------------------------------------\n",
        "# Products Data Cleaning\n",
        "# ---------------------------------------\n",
        "\n",
        "# Convert BARCODE to string and fill missing values with 'UNKNOWN'\n",
        "df_products['BARCODE'] = df_products['BARCODE'].astype(str).fillna('UNKNOWN')\n",
        "\n",
        "# Handle missing values in categorical columns (replace NaN with 'UNKNOWN')\n",
        "df_products['CATEGORY_1'].fillna('UNKNOWN', inplace=True)  # Replaces NaN in CATEGORY_1 with 'UNKNOWN'\n",
        "df_products['CATEGORY_2'].fillna('UNKNOWN', inplace=True)  # Replaces NaN in CATEGORY_2 with 'UNKNOWN'\n",
        "df_products['CATEGORY_3'].fillna('UNKNOWN', inplace=True)  # Replaces NaN in CATEGORY_3 with 'UNKNOWN'\n",
        "df_products['CATEGORY_4'].fillna('UNKNOWN', inplace=True)  # Replaces NaN in CATEGORY_4 with 'UNKNOWN'\n",
        "df_products['MANUFACTURER'].fillna('UNKNOWN', inplace=True)  # Replaces NaN in MANUFACTURER with 'UNKNOWN'\n",
        "df_products['BRAND'].fillna('UNKNOWN', inplace=True)  # Replaces NaN in BRAND with 'UNKNOWN'\n",
        "\n",
        "# Verify changes in products data\n",
        "print(\"\\n Data Types After Conversion (Products):\")\n",
        "print(df_products.dtypes)\n",
        "\n",
        "# ---------------------------------------\n",
        "# Transactions Data Cleaning\n",
        "# ---------------------------------------\n",
        "\n",
        "# Convert BARCODE to string and preserve leading zeros\n",
        "df_transactions['BARCODE'] = df_transactions['BARCODE'].astype(str).str.zfill(12)  # Adjust 12 to the required length\n",
        "\n",
        "# Convert BARCODE in products data to string and preserve leading zeros\n",
        "df_products['BARCODE'] = df_products['BARCODE'].astype(str).str.zfill(12)\n",
        "\n",
        "# Verify changes in transactions data\n",
        "print(\"\\n Data Types After Conversion (Transactions):\")\n",
        "print(df_transactions.dtypes)\n"
      ],
      "metadata": {
        "colab": {
          "base_uri": "https://localhost:8080/",
          "height": 0
        },
        "id": "Mlq48yZmSF1e",
        "outputId": "28b1bef0-0a1c-4d01-e29c-79da55ce723a"
      },
      "execution_count": 9,
      "outputs": [
        {
          "output_type": "stream",
          "name": "stderr",
          "text": [
            "<ipython-input-9-978d8c15a858>:9: FutureWarning: A value is trying to be set on a copy of a DataFrame or Series through chained assignment using an inplace method.\n",
            "The behavior will change in pandas 3.0. This inplace method will never work because the intermediate object on which we are setting values always behaves as a copy.\n",
            "\n",
            "For example, when doing 'df[col].method(value, inplace=True)', try using 'df.method({col: value}, inplace=True)' or df[col] = df[col].method(value) instead, to perform the operation inplace on the original object.\n",
            "\n",
            "\n",
            "  df_products['CATEGORY_1'].fillna('UNKNOWN', inplace=True)  # Replaces NaN in CATEGORY_1 with 'UNKNOWN'\n",
            "<ipython-input-9-978d8c15a858>:10: FutureWarning: A value is trying to be set on a copy of a DataFrame or Series through chained assignment using an inplace method.\n",
            "The behavior will change in pandas 3.0. This inplace method will never work because the intermediate object on which we are setting values always behaves as a copy.\n",
            "\n",
            "For example, when doing 'df[col].method(value, inplace=True)', try using 'df.method({col: value}, inplace=True)' or df[col] = df[col].method(value) instead, to perform the operation inplace on the original object.\n",
            "\n",
            "\n",
            "  df_products['CATEGORY_2'].fillna('UNKNOWN', inplace=True)  # Replaces NaN in CATEGORY_2 with 'UNKNOWN'\n",
            "<ipython-input-9-978d8c15a858>:11: FutureWarning: A value is trying to be set on a copy of a DataFrame or Series through chained assignment using an inplace method.\n",
            "The behavior will change in pandas 3.0. This inplace method will never work because the intermediate object on which we are setting values always behaves as a copy.\n",
            "\n",
            "For example, when doing 'df[col].method(value, inplace=True)', try using 'df.method({col: value}, inplace=True)' or df[col] = df[col].method(value) instead, to perform the operation inplace on the original object.\n",
            "\n",
            "\n",
            "  df_products['CATEGORY_3'].fillna('UNKNOWN', inplace=True)  # Replaces NaN in CATEGORY_3 with 'UNKNOWN'\n",
            "<ipython-input-9-978d8c15a858>:12: FutureWarning: A value is trying to be set on a copy of a DataFrame or Series through chained assignment using an inplace method.\n",
            "The behavior will change in pandas 3.0. This inplace method will never work because the intermediate object on which we are setting values always behaves as a copy.\n",
            "\n",
            "For example, when doing 'df[col].method(value, inplace=True)', try using 'df.method({col: value}, inplace=True)' or df[col] = df[col].method(value) instead, to perform the operation inplace on the original object.\n",
            "\n",
            "\n",
            "  df_products['CATEGORY_4'].fillna('UNKNOWN', inplace=True)  # Replaces NaN in CATEGORY_4 with 'UNKNOWN'\n",
            "<ipython-input-9-978d8c15a858>:13: FutureWarning: A value is trying to be set on a copy of a DataFrame or Series through chained assignment using an inplace method.\n",
            "The behavior will change in pandas 3.0. This inplace method will never work because the intermediate object on which we are setting values always behaves as a copy.\n",
            "\n",
            "For example, when doing 'df[col].method(value, inplace=True)', try using 'df.method({col: value}, inplace=True)' or df[col] = df[col].method(value) instead, to perform the operation inplace on the original object.\n",
            "\n",
            "\n",
            "  df_products['MANUFACTURER'].fillna('UNKNOWN', inplace=True)  # Replaces NaN in MANUFACTURER with 'UNKNOWN'\n",
            "<ipython-input-9-978d8c15a858>:14: FutureWarning: A value is trying to be set on a copy of a DataFrame or Series through chained assignment using an inplace method.\n",
            "The behavior will change in pandas 3.0. This inplace method will never work because the intermediate object on which we are setting values always behaves as a copy.\n",
            "\n",
            "For example, when doing 'df[col].method(value, inplace=True)', try using 'df.method({col: value}, inplace=True)' or df[col] = df[col].method(value) instead, to perform the operation inplace on the original object.\n",
            "\n",
            "\n",
            "  df_products['BRAND'].fillna('UNKNOWN', inplace=True)  # Replaces NaN in BRAND with 'UNKNOWN'\n"
          ]
        },
        {
          "output_type": "stream",
          "name": "stdout",
          "text": [
            "\n",
            " Data Types After Conversion (Products):\n",
            "CATEGORY_1      object\n",
            "CATEGORY_2      object\n",
            "CATEGORY_3      object\n",
            "CATEGORY_4      object\n",
            "MANUFACTURER    object\n",
            "BRAND           object\n",
            "BARCODE         object\n",
            "dtype: object\n",
            "\n",
            " Data Types After Conversion (Transactions):\n",
            "RECEIPT_ID        object\n",
            "PURCHASE_DATE     object\n",
            "SCAN_DATE         object\n",
            "STORE_NAME        object\n",
            "USER_ID           object\n",
            "BARCODE           object\n",
            "FINAL_QUANTITY    object\n",
            "FINAL_SALE        object\n",
            "dtype: object\n"
          ]
        }
      ]
    },
    {
      "cell_type": "markdown",
      "source": [
        "### Data Cleaning Process Explanation\n",
        "\n",
        "#### Products Data Cleaning\n",
        "1. **BARCODE Conversion**:\n",
        "   - Converted `BARCODE` to a string and filled missing values with `'UNKNOWN'`.\n",
        "\n",
        "2. **Handling Missing Values**:\n",
        "   - Replaced missing values in `CATEGORY_1`, `CATEGORY_2`, `CATEGORY_3`, `CATEGORY_4`, `MANUFACTURER`, and `BRAND` with `'UNKNOWN'`.\n",
        "\n",
        "   - **Note**: FutureWarning on `inplace=True`. In pandas v3.0, use direct assignment like `df['CATEGORY_1'] = df['CATEGORY_1'].fillna('UNKNOWN')`.\n",
        "\n",
        "#### Transactions Data Cleaning\n",
        "1. **BARCODE Conversion**:\n",
        "   - Converted `BARCODE` to a string and ensured leading zeros were preserved using `str.zfill(12)`.\n",
        "\n",
        "#### Data Type Verification\n",
        "- **Products Data Types**: All categorical columns and `BARCODE` are now `object` (string).\n",
        "- **Transactions Data Types**: All relevant columns, including `BARCODE`, are `object` (string).\n",
        "\n"
      ],
      "metadata": {
        "id": "N5fNmENwez5j"
      }
    },
    {
      "cell_type": "code",
      "source": [
        "df_transactions.drop_duplicates(inplace=True)\n",
        "df_users.drop_duplicates(inplace=True)\n",
        "df_products.drop_duplicates(inplace=True)\n",
        "\n",
        "print(\"\\n Duplicates Removed!\")\n"
      ],
      "metadata": {
        "colab": {
          "base_uri": "https://localhost:8080/",
          "height": 0
        },
        "id": "0RjnU0EH2103",
        "outputId": "6d221d02-41cb-4db3-f3d8-614e6e1f4ba5"
      },
      "execution_count": 10,
      "outputs": [
        {
          "output_type": "stream",
          "name": "stdout",
          "text": [
            "\n",
            " Duplicates Removed!\n"
          ]
        }
      ]
    },
    {
      "cell_type": "code",
      "source": [
        "# Convert text fields to lowercase and strip spaces\n",
        "df_products['BRAND'] = df_products['BRAND'].str.lower().str.strip()\n",
        "df_users['STATE'] = df_users['STATE'].str.title().str.strip()  # Capitalize first letter\n",
        "df_transactions['STORE_NAME'] = df_transactions['STORE_NAME'].str.title().str.strip()\n",
        "\n",
        "print(\"\\n Text Formatting Standardized!\")\n"
      ],
      "metadata": {
        "colab": {
          "base_uri": "https://localhost:8080/",
          "height": 0
        },
        "id": "Buulyprh27pW",
        "outputId": "a136f421-4286-4d1e-c86f-88ebaecd8f0d"
      },
      "execution_count": 16,
      "outputs": [
        {
          "output_type": "stream",
          "name": "stdout",
          "text": [
            "\n",
            " Text Formatting Standardized!\n"
          ]
        }
      ]
    },
    {
      "cell_type": "code",
      "source": [
        "import matplotlib.pyplot as plt\n",
        "\n",
        "# Convert 'FINAL_QUANTITY' to numeric, coercing errors (invalid parsing will become NaN)\n",
        "df_transactions['FINAL_QUANTITY'] = pd.to_numeric(df_transactions['FINAL_QUANTITY'], errors='coerce')\n",
        "\n",
        "# Boxplot to detect extreme values\n",
        "plt.figure(figsize=(10, 5))\n",
        "plt.boxplot(df_transactions['FINAL_QUANTITY'].dropna(), vert=False)\n",
        "plt.title(\"Outlier Detection: FINAL_QUANTITY\")\n",
        "plt.show()\n"
      ],
      "metadata": {
        "colab": {
          "base_uri": "https://localhost:8080/",
          "height": 468
        },
        "id": "5GbhrR-53Ea0",
        "outputId": "2f232502-7ef6-4ca3-81c3-3088f0d8c4c3"
      },
      "execution_count": 13,
      "outputs": [
        {
          "output_type": "display_data",
          "data": {
            "text/plain": [
              "<Figure size 1000x500 with 1 Axes>"
            ],
            "image/png": "[encoded data removed]"
          },
          "metadata": {}
        }
      ]
    },
    {
      "cell_type": "code",
      "source": [
        "# Identify the outlier by checking values outside the IQR\n",
        "Q1 = df_transactions['FINAL_QUANTITY'].quantile(0.25)\n",
        "Q3 = df_transactions['FINAL_QUANTITY'].quantile(0.75)\n",
        "IQR = Q3 - Q1\n",
        "\n",
        "# Define outlier thresholds\n",
        "lower_bound = Q1 - 1.5 * IQR\n",
        "upper_bound = Q3 + 1.5 * IQR\n",
        "\n",
        "# Find the outlier values\n",
        "outliers = pd.concat([\n",
        "    df_transactions[df_transactions['FINAL_QUANTITY'] < lower_bound],\n",
        "    df_transactions[df_transactions['FINAL_QUANTITY'] > upper_bound]\n",
        "])\n",
        "\n",
        "# Show outliers\n",
        "print(outliers)\n"
      ],
      "metadata": {
        "colab": {
          "base_uri": "https://localhost:8080/",
          "height": 0
        },
        "id": "w6zvwaC3SiUV",
        "outputId": "40bd5dce-a30e-44b1-d786-cd3c8e32fdeb"
      },
      "execution_count": 14,
      "outputs": [
        {
          "output_type": "stream",
          "name": "stdout",
          "text": [
            "                                 RECEIPT_ID PURCHASE_DATE  \\\n",
            "3188   2057913b-b444-4a4f-9935-3bc72a13f1b9    2024-07-28   \n",
            "3878   277b1f93-4de0-47bf-a094-319de868e601    2024-08-26   \n",
            "6046   3dbe1f4c-6649-47b0-8328-7fc893efbb31    2024-07-07   \n",
            "6810   459b41f8-ab7d-4569-9b0b-364e2dd97486    2024-06-13   \n",
            "7986   52660cb5-3c6a-42be-aa87-97055c93c6cb    2024-08-08   \n",
            "...                                     ...           ...   \n",
            "49955  f42b2d83-7473-45c0-9166-cfe632b46055    2024-06-29   \n",
            "49965  dd129325-29f7-432b-a905-4d6e3d37f7b2    2024-08-26   \n",
            "49981  660145af-c343-427e-ab06-f12839e6b15a    2024-07-10   \n",
            "49984  e3913e59-c656-438a-84bd-4da4397f956d    2024-07-31   \n",
            "49995  b5cd61a9-8033-4913-a5c4-fb3f65e3a321    2024-08-21   \n",
            "\n",
            "                       SCAN_DATE      STORE_NAME                   USER_ID  \\\n",
            "3188   2024-08-03 09:44:59.328 Z          Meijer  652efc6ca65d634c1c298c09   \n",
            "3878   2024-08-26 11:56:03.764 Z          Meijer  5fa7cf2a974a6c126e73e84c   \n",
            "6046   2024-07-08 20:58:08.868 Z  Key Food Fresh  5f299c8180f26b20811a4e70   \n",
            "6810   2024-06-13 21:59:17.239 Z         Walmart  62a28fae1f9dbf1584c6bf58   \n",
            "7986   2024-08-08 18:34:12.588 Z         Walmart  63a4827cb5f32149b9d7b423   \n",
            "...                          ...             ...                       ...   \n",
            "49955  2024-07-01 07:21:10.312 Z       Food City  619dab3e6f1d182a23c75ea7   \n",
            "49965  2024-08-26 09:39:37.299 Z     Fiesta Mart  65eb5a1e7756e548cb83405c   \n",
            "49981  2024-07-10 20:39:31.444 Z            Acme  64b37e13480825afb3d4b3d7   \n",
            "49984  2024-08-03 12:00:17.620 Z     Winco Foods  62e34d72a6565cf0534b15a1   \n",
            "49995  2024-08-31 14:13:08.634 Z          Target  6154bcf098f885648de2f299   \n",
            "\n",
            "              BARCODE  FINAL_QUANTITY FINAL_SALE  \n",
            "3188     000000000nan            0.46             \n",
            "3878     0000040945.0            0.23             \n",
            "6046     0000040945.0            0.09             \n",
            "6810    29000076501.0            0.62             \n",
            "7986   262891000006.0            0.51             \n",
            "...               ...             ...        ...  \n",
            "49955   21000026326.0            2.00       8.00  \n",
            "49965  511111001768.0            2.00       0.98  \n",
            "49981   50000110810.0            2.00       8.98  \n",
            "49984   72220009910.0            2.00      11.96  \n",
            "49995   85239110669.0            2.00       1.18  \n",
            "\n",
            "[1802 rows x 8 columns]\n"
          ]
        }
      ]
    },
    {
      "cell_type": "code",
      "source": [
        "# Cap outliers to the IQR bounds\n",
        "df_transactions['FINAL_QUANTITY'] = df_transactions['FINAL_QUANTITY'].clip(lower=lower_bound, upper=upper_bound)\n"
      ],
      "metadata": {
        "id": "X2RQyKZ43I-4"
      },
      "execution_count": 15,
      "outputs": []
    },
    {
      "cell_type": "code",
      "source": [
        "top_stores = df_transactions['STORE_NAME'].value_counts().head(10)\n",
        "plt.figure(figsize=(12,6))\n",
        "sns.barplot(x=top_stores.index, y=top_stores.values, palette=\"viridis\")\n",
        "plt.xticks(rotation=45)\n",
        "plt.title(\"Top 10 Stores by Transactions\")\n",
        "plt.ylabel(\"Number of Transactions\")\n",
        "plt.show()"
      ],
      "metadata": {
        "colab": {
          "base_uri": "https://localhost:8080/",
          "height": 751
        },
        "id": "Kc6xHZAmf8wu",
        "outputId": "0202d907-6bfe-4ace-b996-64e0a06e7e5a"
      },
      "execution_count": 18,
      "outputs": [
        {
          "output_type": "stream",
          "name": "stderr",
          "text": [
            "<ipython-input-18-4deac0bd73c1>:3: FutureWarning: \n",
            "\n",
            "Passing `palette` without assigning `hue` is deprecated and will be removed in v0.14.0. Assign the `x` variable to `hue` and set `legend=False` for the same effect.\n",
            "\n",
            "  sns.barplot(x=top_stores.index, y=top_stores.values, palette=\"viridis\")\n"
          ]
        },
        {
          "output_type": "display_data",
          "data": {
            "text/plain": [
              "<Figure size 1200x600 with 1 Axes>"
            ],
            "image/png": "[encoded data removed]"
          },
          "metadata": {}
        }
      ]
    },
    {
      "cell_type": "code",
      "source": [
        "df_transactions.to_csv(\"transactions_cleaned.csv\", index=False)\n",
        "df_users.to_csv(\"users_cleaned.csv\", index=False)\n",
        "df_products.to_csv(\"products_cleaned.csv\", index=False)\n",
        "\n",
        "print(\"\\n Cleaned Data Saved!\")\n"
      ],
      "metadata": {
        "id": "JIF_OP5D3T44",
        "colab": {
          "base_uri": "https://localhost:8080/",
          "height": 0
        },
        "outputId": "0e9bac48-6bfe-458b-b1d1-8911eac1c39f"
      },
      "execution_count": 20,
      "outputs": [
        {
          "output_type": "stream",
          "name": "stdout",
          "text": [
            "\n",
            " Cleaned Data Saved!\n"
          ]
        }
      ]
    },
    {
      "cell_type": "markdown",
      "source": [
        "**Data Quality Issues Identified**\n",
        "\n",
        "\n",
        "---\n",
        "\n",
        "\n",
        "The dataset contains multiple data quality issues, including missing values, incorrect data types, and inconsistent formatting. BARCODE has 5,762 missing values in transactions, while key demographic fields in users (BIRTH_DATE, GENDER, STATE, LANGUAGE) also have substantial missing data. In the products dataset, CATEGORY_4 has missing values in 92% of rows, and fields like MANUFACTURER and BRAND have over 226,000 missing values. Additionally, FINAL_QUANTITY contained non-numeric values like \"zero\", and outliers were detected in quantity values. The barcode column was incorrectly stored as a float, leading to loss of leading zeros, requiring conversion to a string.\n",
        "\n",
        "**Challenging Fields to Understand**\n",
        "\n",
        "---\n",
        "\n",
        "\n",
        "Several fields in the dataset require clarification for proper analysis. LANGUAGE contains values like es-419, which are not straightforward to interpret as standard languages. FINAL_SALE has some negative values, which could indicate refunds but need further investigation. The CATEGORY_4 column in the products dataset is largely empty, making its usefulness questionable. Similarly, GENDER has unexpected null values, raising questions about whether it should be standardized or imputed. Additionally, the handling of duplicate BARCODE values across products and transactions needs clarification to avoid incorrect joins or analysis errors.\n"
      ],
      "metadata": {
        "id": "oqr-A8AuhTEE"
      }
    }
  ]
}