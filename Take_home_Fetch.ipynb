{
  "nbformat": 4,
  "nbformat_minor": 0,
  "metadata": {
    "colab": {
      "provenance": []
    },
    "kernelspec": {
      "name": "python3",
      "display_name": "Python 3"
    },
    "language_info": {
      "name": "python"
    }
  },
  "cells": [
    {
      "cell_type": "code",
      "execution_count": 2,
      "metadata": {
        "colab": {
          "base_uri": "https://localhost:8080/",
          "height": 142
        },
        "id": "VBRny6w_zCqE",
        "outputId": "8830c000-ef8a-402d-c61e-e529ffd06fbe"
      },
      "outputs": [
        {
          "output_type": "display_data",
          "data": {
            "text/plain": [
              "<IPython.core.display.HTML object>"
            ],
            "text/html": [
              "\n",
              "     <input type=\"file\" id=\"files-5f5b72ae-dbb0-448f-aa8b-6c31f483d77a\" name=\"files[]\" multiple disabled\n",
              "        style=\"border:none\" />\n",
              "     <output id=\"result-5f5b72ae-dbb0-448f-aa8b-6c31f483d77a\">\n",
              "      Upload widget is only available when the cell has been executed in the\n",
              "      current browser session. Please rerun this cell to enable.\n",
              "      </output>\n",
              "      <script>// Copyright 2017 Google LLC\n",
              "//\n",
              "// Licensed under the Apache License, Version 2.0 (the \"License\");\n",
              "// you may not use this file except in compliance with the License.\n",
              "// You may obtain a copy of the License at\n",
              "//\n",
              "//      http://www.apache.org/licenses/LICENSE-2.0\n",
              "//\n",
              "// Unless required by applicable law or agreed to in writing, software\n",
              "// distributed under the License is distributed on an \"AS IS\" BASIS,\n",
              "// WITHOUT WARRANTIES OR CONDITIONS OF ANY KIND, either express or implied.\n",
              "// See the License for the specific language governing permissions and\n",
              "// limitations under the License.\n",
              "\n",
              "/**\n",
              " * @fileoverview Helpers for google.colab Python module.\n",
              " */\n",
              "(function(scope) {\n",
              "function span(text, styleAttributes = {}) {\n",
              "  const element = document.createElement('span');\n",
              "  element.textContent = text;\n",
              "  for (const key of Object.keys(styleAttributes)) {\n",
              "    element.style[key] = styleAttributes[key];\n",
              "  }\n",
              "  return element;\n",
              "}\n",
              "\n",
              "// Max number of bytes which will be uploaded at a time.\n",
              "const MAX_PAYLOAD_SIZE = 100 * 1024;\n",
              "\n",
              "function _uploadFiles(inputId, outputId) {\n",
              "  const steps = uploadFilesStep(inputId, outputId);\n",
              "  const outputElement = document.getElementById(outputId);\n",
              "  // Cache steps on the outputElement to make it available for the next call\n",
              "  // to uploadFilesContinue from Python.\n",
              "  outputElement.steps = steps;\n",
              "\n",
              "  return _uploadFilesContinue(outputId);\n",
              "}\n",
              "\n",
              "// This is roughly an async generator (not supported in the browser yet),\n",
              "// where there are multiple asynchronous steps and the Python side is going\n",
              "// to poll for completion of each step.\n",
              "// This uses a Promise to block the python side on completion of each step,\n",
              "// then passes the result of the previous step as the input to the next step.\n",
              "function _uploadFilesContinue(outputId) {\n",
              "  const outputElement = document.getElementById(outputId);\n",
              "  const steps = outputElement.steps;\n",
              "\n",
              "  const next = steps.next(outputElement.lastPromiseValue);\n",
              "  return Promise.resolve(next.value.promise).then((value) => {\n",
              "    // Cache the last promise value to make it available to the next\n",
              "    // step of the generator.\n",
              "    outputElement.lastPromiseValue = value;\n",
              "    return next.value.response;\n",
              "  });\n",
              "}\n",
              "\n",
              "/**\n",
              " * Generator function which is called between each async step of the upload\n",
              " * process.\n",
              " * @param {string} inputId Element ID of the input file picker element.\n",
              " * @param {string} outputId Element ID of the output display.\n",
              " * @return {!Iterable<!Object>} Iterable of next steps.\n",
              " */\n",
              "function* uploadFilesStep(inputId, outputId) {\n",
              "  const inputElement = document.getElementById(inputId);\n",
              "  inputElement.disabled = false;\n",
              "\n",
              "  const outputElement = document.getElementById(outputId);\n",
              "  outputElement.innerHTML = '';\n",
              "\n",
              "  const pickedPromise = new Promise((resolve) => {\n",
              "    inputElement.addEventListener('change', (e) => {\n",
              "      resolve(e.target.files);\n",
              "    });\n",
              "  });\n",
              "\n",
              "  const cancel = document.createElement('button');\n",
              "  inputElement.parentElement.appendChild(cancel);\n",
              "  cancel.textContent = 'Cancel upload';\n",
              "  const cancelPromise = new Promise((resolve) => {\n",
              "    cancel.onclick = () => {\n",
              "      resolve(null);\n",
              "    };\n",
              "  });\n",
              "\n",
              "  // Wait for the user to pick the files.\n",
              "  const files = yield {\n",
              "    promise: Promise.race([pickedPromise, cancelPromise]),\n",
              "    response: {\n",
              "      action: 'starting',\n",
              "    }\n",
              "  };\n",
              "\n",
              "  cancel.remove();\n",
              "\n",
              "  // Disable the input element since further picks are not allowed.\n",
              "  inputElement.disabled = true;\n",
              "\n",
              "  if (!files) {\n",
              "    return {\n",
              "      response: {\n",
              "        action: 'complete',\n",
              "      }\n",
              "    };\n",
              "  }\n",
              "\n",
              "  for (const file of files) {\n",
              "    const li = document.createElement('li');\n",
              "    li.append(span(file.name, {fontWeight: 'bold'}));\n",
              "    li.append(span(\n",
              "        `(${file.type || 'n/a'}) - ${file.size} bytes, ` +\n",
              "        `last modified: ${\n",
              "            file.lastModifiedDate ? file.lastModifiedDate.toLocaleDateString() :\n",
              "                                    'n/a'} - `));\n",
              "    const percent = span('0% done');\n",
              "    li.appendChild(percent);\n",
              "\n",
              "    outputElement.appendChild(li);\n",
              "\n",
              "    const fileDataPromise = new Promise((resolve) => {\n",
              "      const reader = new FileReader();\n",
              "      reader.onload = (e) => {\n",
              "        resolve(e.target.result);\n",
              "      };\n",
              "      reader.readAsArrayBuffer(file);\n",
              "    });\n",
              "    // Wait for the data to be ready.\n",
              "    let fileData = yield {\n",
              "      promise: fileDataPromise,\n",
              "      response: {\n",
              "        action: 'continue',\n",
              "      }\n",
              "    };\n",
              "\n",
              "    // Use a chunked sending to avoid message size limits. See b/62115660.\n",
              "    let position = 0;\n",
              "    do {\n",
              "      const length = Math.min(fileData.byteLength - position, MAX_PAYLOAD_SIZE);\n",
              "      const chunk = new Uint8Array(fileData, position, length);\n",
              "      position += length;\n",
              "\n",
              "      const base64 = btoa(String.fromCharCode.apply(null, chunk));\n",
              "      yield {\n",
              "        response: {\n",
              "          action: 'append',\n",
              "          file: file.name,\n",
              "          data: base64,\n",
              "        },\n",
              "      };\n",
              "\n",
              "      let percentDone = fileData.byteLength === 0 ?\n",
              "          100 :\n",
              "          Math.round((position / fileData.byteLength) * 100);\n",
              "      percent.textContent = `${percentDone}% done`;\n",
              "\n",
              "    } while (position < fileData.byteLength);\n",
              "  }\n",
              "\n",
              "  // All done.\n",
              "  yield {\n",
              "    response: {\n",
              "      action: 'complete',\n",
              "    }\n",
              "  };\n",
              "}\n",
              "\n",
              "scope.google = scope.google || {};\n",
              "scope.google.colab = scope.google.colab || {};\n",
              "scope.google.colab._files = {\n",
              "  _uploadFiles,\n",
              "  _uploadFilesContinue,\n",
              "};\n",
              "})(self);\n",
              "</script> "
            ]
          },
          "metadata": {}
        },
        {
          "output_type": "stream",
          "name": "stdout",
          "text": [
            "Saving PRODUCTS.csv to PRODUCTS.csv\n",
            "Saving TRANSACTIONS.csv to TRANSACTIONS.csv\n",
            "Saving USER.csv to USER.csv\n"
          ]
        }
      ],
      "source": [
        "from google.colab import files\n",
        "\n",
        "# Upload files manually\n",
        "uploaded = files.upload()\n",
        "\n"
      ]
    },
    {
      "cell_type": "code",
      "source": [
        "import os\n",
        "\n",
        "# List files in the current directory\n",
        "print(os.listdir(\"/content\"))\n"
      ],
      "metadata": {
        "colab": {
          "base_uri": "https://localhost:8080/"
        },
        "id": "L72NDg0D2Bd7",
        "outputId": "61339ea6-96d6-4a5c-fa78-4337494445f1"
      },
      "execution_count": 3,
      "outputs": [
        {
          "output_type": "stream",
          "name": "stdout",
          "text": [
            "['.config', 'PRODUCTS.csv', 'USER.csv', 'TRANSACTIONS.csv', 'sample_data']\n"
          ]
        }
      ]
    },
    {
      "cell_type": "code",
      "source": [
        "import pandas as pd\n",
        "\n",
        "# Define the correct file paths for Colab\n",
        "transactions_path = \"/content/TRANSACTIONS.csv\"\n",
        "users_path = \"/content/USER.csv\"\n",
        "products_path = \"/content/PRODUCTS.csv\"\n",
        "\n",
        "# Load CSV files into Pandas DataFrames\n",
        "df_transactions = pd.read_csv(transactions_path)\n",
        "df_users = pd.read_csv(users_path)\n",
        "df_products = pd.read_csv(products_path)\n",
        "\n",
        "# Display first few rows\n",
        "print(\"Transactions Data:\")\n",
        "print(df_transactions.head())\n",
        "\n",
        "print(\"\\n Users Data:\")\n",
        "print(df_users.head())\n",
        "\n",
        "print(\"\\n Products Data:\")\n",
        "print(df_products.head())\n"
      ],
      "metadata": {
        "colab": {
          "base_uri": "https://localhost:8080/"
        },
        "id": "hG2FMcmv2IC9",
        "outputId": "bb8f7bb3-dae5-4bb4-d74c-3c043ff88151"
      },
      "execution_count": 4,
      "outputs": [
        {
          "output_type": "stream",
          "name": "stdout",
          "text": [
            "Transactions Data:\n",
            "                             RECEIPT_ID PURCHASE_DATE  \\\n",
            "0  0000d256-4041-4a3e-adc4-5623fb6e0c99    2024-08-21   \n",
            "1  0001455d-7a92-4a7b-a1d2-c747af1c8fd3    2024-07-20   \n",
            "2  00017e0a-7851-42fb-bfab-0baa96e23586    2024-08-18   \n",
            "3  000239aa-3478-453d-801e-66a82e39c8af    2024-06-18   \n",
            "4  00026b4c-dfe8-49dd-b026-4c2f0fd5c6a1    2024-07-04   \n",
            "\n",
            "                   SCAN_DATE STORE_NAME                   USER_ID  \\\n",
            "0  2024-08-21 14:19:06.539 Z    WALMART  63b73a7f3d310dceeabd4758   \n",
            "1  2024-07-20 09:50:24.206 Z       ALDI  62c08877baa38d1a1f6c211a   \n",
            "2  2024-08-19 15:38:56.813 Z    WALMART  60842f207ac8b7729e472020   \n",
            "3  2024-06-19 11:03:37.468 Z  FOOD LION  63fcd7cea4f8442c3386b589   \n",
            "4  2024-07-05 15:56:43.549 Z   RANDALLS  6193231ae9b3d75037b0f928   \n",
            "\n",
            "        BARCODE FINAL_QUANTITY FINAL_SALE  \n",
            "0  1.530001e+10           1.00             \n",
            "1           NaN           zero       1.49  \n",
            "2  7.874223e+10           1.00             \n",
            "3  7.833997e+11           zero       3.49  \n",
            "4  4.790050e+10           1.00             \n",
            "\n",
            " Users Data:\n",
            "                         ID               CREATED_DATE  \\\n",
            "0  5ef3b4f17053ab141787697d  2020-06-24 20:17:54.000 Z   \n",
            "1  5ff220d383fcfc12622b96bc  2021-01-03 19:53:55.000 Z   \n",
            "2  6477950aa55bb77a0e27ee10  2023-05-31 18:42:18.000 Z   \n",
            "3  658a306e99b40f103b63ccf8  2023-12-26 01:46:22.000 Z   \n",
            "4  653cf5d6a225ea102b7ecdc2  2023-10-28 11:51:50.000 Z   \n",
            "\n",
            "                  BIRTH_DATE STATE LANGUAGE  GENDER  \n",
            "0  2000-08-11 00:00:00.000 Z    CA   es-419  female  \n",
            "1  2001-09-24 04:00:00.000 Z    PA       en  female  \n",
            "2  1994-10-28 00:00:00.000 Z    FL   es-419  female  \n",
            "3                        NaN    NC       en     NaN  \n",
            "4  1972-03-19 00:00:00.000 Z    PA       en  female  \n",
            "\n",
            " Products Data:\n",
            "          CATEGORY_1              CATEGORY_2                   CATEGORY_3  \\\n",
            "0  Health & Wellness           Sexual Health  Conductivity Gels & Lotions   \n",
            "1             Snacks           Puffed Snacks         Cheese Curls & Puffs   \n",
            "2  Health & Wellness               Hair Care        Hair Care Accessories   \n",
            "3  Health & Wellness               Oral Care                   Toothpaste   \n",
            "4  Health & Wellness  Medicines & Treatments               Essential Oils   \n",
            "\n",
            "  CATEGORY_4                                       MANUFACTURER  \\\n",
            "0        NaN                                                NaN   \n",
            "1        NaN                                                NaN   \n",
            "2        NaN                           PLACEHOLDER MANUFACTURER   \n",
            "3        NaN                                  COLGATE-PALMOLIVE   \n",
            "4        NaN  MAPLE HOLISTICS AND HONEYDEW PRODUCTS INTERCHA...   \n",
            "\n",
            "             BRAND       BARCODE  \n",
            "0              NaN  7.964944e+11  \n",
            "1              NaN  2.327801e+10  \n",
            "2          ELECSOP  4.618178e+11  \n",
            "3          COLGATE  3.500047e+10  \n",
            "4  MAPLE HOLISTICS  8.068109e+11  \n"
          ]
        }
      ]
    },
    {
      "cell_type": "code",
      "source": [
        "# Check data types and missing values\n",
        "print(\"\\n Transactions Data:\")\n",
        "print(df_transactions.info())\n",
        "print(df_transactions.isnull().sum())\n",
        "\n",
        "print(\"\\n Users Data:\")\n",
        "print(df_users.info())\n",
        "print(df_users.isnull().sum())\n",
        "\n",
        "print(\"\\n Products Data:\")\n",
        "print(df_products.info())\n",
        "print(df_products.isnull().sum())\n"
      ],
      "metadata": {
        "colab": {
          "base_uri": "https://localhost:8080/"
        },
        "id": "AmNjWXuJ2gYb",
        "outputId": "14aba194-6843-4506-a3e9-d6954437bc45"
      },
      "execution_count": 5,
      "outputs": [
        {
          "output_type": "stream",
          "name": "stdout",
          "text": [
            "\n",
            " Transactions Data:\n",
            "<class 'pandas.core.frame.DataFrame'>\n",
            "RangeIndex: 50000 entries, 0 to 49999\n",
            "Data columns (total 8 columns):\n",
            " #   Column          Non-Null Count  Dtype  \n",
            "---  ------          --------------  -----  \n",
            " 0   RECEIPT_ID      50000 non-null  object \n",
            " 1   PURCHASE_DATE   50000 non-null  object \n",
            " 2   SCAN_DATE       50000 non-null  object \n",
            " 3   STORE_NAME      50000 non-null  object \n",
            " 4   USER_ID         50000 non-null  object \n",
            " 5   BARCODE         44238 non-null  float64\n",
            " 6   FINAL_QUANTITY  50000 non-null  object \n",
            " 7   FINAL_SALE      50000 non-null  object \n",
            "dtypes: float64(1), object(7)\n",
            "memory usage: 3.1+ MB\n",
            "None\n",
            "RECEIPT_ID           0\n",
            "PURCHASE_DATE        0\n",
            "SCAN_DATE            0\n",
            "STORE_NAME           0\n",
            "USER_ID              0\n",
            "BARCODE           5762\n",
            "FINAL_QUANTITY       0\n",
            "FINAL_SALE           0\n",
            "dtype: int64\n",
            "\n",
            " Users Data:\n",
            "<class 'pandas.core.frame.DataFrame'>\n",
            "RangeIndex: 100000 entries, 0 to 99999\n",
            "Data columns (total 6 columns):\n",
            " #   Column        Non-Null Count   Dtype \n",
            "---  ------        --------------   ----- \n",
            " 0   ID            100000 non-null  object\n",
            " 1   CREATED_DATE  100000 non-null  object\n",
            " 2   BIRTH_DATE    96325 non-null   object\n",
            " 3   STATE         95188 non-null   object\n",
            " 4   LANGUAGE      69492 non-null   object\n",
            " 5   GENDER        94108 non-null   object\n",
            "dtypes: object(6)\n",
            "memory usage: 4.6+ MB\n",
            "None\n",
            "ID                  0\n",
            "CREATED_DATE        0\n",
            "BIRTH_DATE       3675\n",
            "STATE            4812\n",
            "LANGUAGE        30508\n",
            "GENDER           5892\n",
            "dtype: int64\n",
            "\n",
            " Products Data:\n",
            "<class 'pandas.core.frame.DataFrame'>\n",
            "RangeIndex: 845552 entries, 0 to 845551\n",
            "Data columns (total 7 columns):\n",
            " #   Column        Non-Null Count   Dtype  \n",
            "---  ------        --------------   -----  \n",
            " 0   CATEGORY_1    845441 non-null  object \n",
            " 1   CATEGORY_2    844128 non-null  object \n",
            " 2   CATEGORY_3    784986 non-null  object \n",
            " 3   CATEGORY_4    67459 non-null   object \n",
            " 4   MANUFACTURER  619078 non-null  object \n",
            " 5   BRAND         619080 non-null  object \n",
            " 6   BARCODE       841527 non-null  float64\n",
            "dtypes: float64(1), object(6)\n",
            "memory usage: 45.2+ MB\n",
            "None\n",
            "CATEGORY_1         111\n",
            "CATEGORY_2        1424\n",
            "CATEGORY_3       60566\n",
            "CATEGORY_4      778093\n",
            "MANUFACTURER    226474\n",
            "BRAND           226472\n",
            "BARCODE           4025\n",
            "dtype: int64\n"
          ]
        }
      ]
    },
    {
      "cell_type": "code",
      "source": [
        "# Fill missing values with appropriate defaults\n",
        "df_transactions.fillna({'FINAL_QUANTITY': 0}, inplace=True)  # Assuming 0 means no purchase\n",
        "df_users.fillna({'STATE': 'Unknown', 'LANGUAGE': 'Unknown'}, inplace=True)\n",
        "df_products.fillna({'CATEGORY_1': 'Other'}, inplace=True)\n",
        "\n",
        "# Drop rows if a critical column (like ID) is missing\n",
        "df_transactions.dropna(subset=['RECEIPT_ID'], inplace=True)\n",
        "df_users.dropna(subset=['ID'], inplace=True)\n",
        "\n",
        "# Check again for missing values\n",
        "print(\"\\n Missing Values After Fix:\")\n",
        "print(df_transactions.isnull().sum())\n",
        "print(df_users.isnull().sum())\n",
        "print(df_products.isnull().sum())\n"
      ],
      "metadata": {
        "colab": {
          "base_uri": "https://localhost:8080/"
        },
        "id": "chDE8ixU2hWB",
        "outputId": "9e92f50f-a410-43f9-f2a5-5e46fe53050d"
      },
      "execution_count": 7,
      "outputs": [
        {
          "output_type": "stream",
          "name": "stdout",
          "text": [
            "\n",
            " Missing Values After Fix:\n",
            "RECEIPT_ID           0\n",
            "PURCHASE_DATE        0\n",
            "SCAN_DATE            0\n",
            "STORE_NAME           0\n",
            "USER_ID              0\n",
            "BARCODE           5762\n",
            "FINAL_QUANTITY       0\n",
            "FINAL_SALE           0\n",
            "dtype: int64\n",
            "ID                 0\n",
            "CREATED_DATE       0\n",
            "BIRTH_DATE      3675\n",
            "STATE              0\n",
            "LANGUAGE           0\n",
            "GENDER          5892\n",
            "dtype: int64\n",
            "CATEGORY_1           0\n",
            "CATEGORY_2        1424\n",
            "CATEGORY_3       60566\n",
            "CATEGORY_4      778093\n",
            "MANUFACTURER    226474\n",
            "BRAND           226472\n",
            "BARCODE           4025\n",
            "dtype: int64\n"
          ]
        }
      ]
    },
    {
      "cell_type": "code",
      "source": [
        "df_transactions.dropna(subset=['BARCODE'], inplace=True)\n",
        "df_products.dropna(subset=['BARCODE'], inplace=True)\n",
        "\n",
        "# Check again for missing values\n",
        "print(\"\\n Missing Values After Fix:\")\n",
        "print(df_transactions.isnull().sum())\n",
        "print(df_users.isnull().sum())\n",
        "print(df_products.isnull().sum())"
      ],
      "metadata": {
        "colab": {
          "base_uri": "https://localhost:8080/"
        },
        "id": "e9FZ94QKP82E",
        "outputId": "04cc61e4-416c-427c-ded4-4cfbb93622ea"
      },
      "execution_count": 10,
      "outputs": [
        {
          "output_type": "stream",
          "name": "stdout",
          "text": [
            "\n",
            " Missing Values After Fix:\n",
            "RECEIPT_ID        0\n",
            "PURCHASE_DATE     0\n",
            "SCAN_DATE         0\n",
            "STORE_NAME        0\n",
            "USER_ID           0\n",
            "BARCODE           0\n",
            "FINAL_QUANTITY    0\n",
            "FINAL_SALE        0\n",
            "dtype: int64\n",
            "ID                 0\n",
            "CREATED_DATE       0\n",
            "BIRTH_DATE      3675\n",
            "STATE              0\n",
            "LANGUAGE           0\n",
            "GENDER          5892\n",
            "dtype: int64\n",
            "CATEGORY_1           0\n",
            "CATEGORY_2         661\n",
            "CATEGORY_3       58714\n",
            "CATEGORY_4      774291\n",
            "MANUFACTURER    226227\n",
            "BRAND           226225\n",
            "BARCODE              0\n",
            "dtype: int64\n"
          ]
        }
      ]
    },
    {
      "cell_type": "code",
      "source": [
        "# Convert RECEIPT_ID and USER_ID to strings (if needed) and handle missing values\n",
        "df_transactions['RECEIPT_ID'] = df_transactions['RECEIPT_ID'].astype(str).fillna('UNKNOWN')\n",
        "df_transactions['USER_ID'] = df_transactions['USER_ID'].astype(str).fillna('UNKNOWN')\n",
        "\n",
        "# Convert date columns\n",
        "df_transactions['PURCHASE_DATE'] = pd.to_datetime(df_transactions['PURCHASE_DATE'], errors='coerce')\n",
        "df_transactions['SCAN_DATE'] = pd.to_datetime(df_transactions['SCAN_DATE'], errors='coerce')\n",
        "\n",
        "# Convert BARCODE to string and fill missing values with 'UNKNOWN'\n",
        "df_transactions['BARCODE'] = df_transactions['BARCODE'].astype(str).fillna('UNKNOWN')\n",
        "\n",
        "# Convert FINAL_QUANTITY to numeric and handle 'zero' as 0\n",
        "df_transactions['FINAL_QUANTITY'] = df_transactions['FINAL_QUANTITY'].replace('zero', 0)\n",
        "df_transactions['FINAL_QUANTITY'] = pd.to_numeric(df_transactions['FINAL_QUANTITY'], errors='coerce')\n",
        "\n",
        "# Convert FINAL_SALE to numeric, replacing any errors with NaN\n",
        "df_transactions['FINAL_SALE'] = pd.to_numeric(df_transactions['FINAL_SALE'], errors='coerce')\n",
        "\n",
        "# Verify changes\n",
        "print(\"\\n Data Types After Conversion:\")\n",
        "print(df_transactions.dtypes)\n"
      ],
      "metadata": {
        "colab": {
          "base_uri": "https://localhost:8080/"
        },
        "id": "Wf9qDQ6G2oFR",
        "outputId": "85dc6314-265e-47ea-92a6-d714584bd89a"
      },
      "execution_count": 12,
      "outputs": [
        {
          "output_type": "stream",
          "name": "stdout",
          "text": [
            "\n",
            " Data Types After Conversion:\n",
            "RECEIPT_ID                     object\n",
            "PURCHASE_DATE          datetime64[ns]\n",
            "SCAN_DATE         datetime64[ns, UTC]\n",
            "STORE_NAME                     object\n",
            "USER_ID                        object\n",
            "BARCODE                        object\n",
            "FINAL_QUANTITY                float64\n",
            "FINAL_SALE                    float64\n",
            "dtype: object\n"
          ]
        }
      ]
    },
    {
      "cell_type": "code",
      "source": [
        "# Convert CREATED_DATE and BIRTH_DATE to datetime\n",
        "df_users['CREATED_DATE'] = pd.to_datetime(df_users['CREATED_DATE'], errors='coerce')\n",
        "df_users['BIRTH_DATE'] = pd.to_datetime(df_users['BIRTH_DATE'], errors='coerce')\n",
        "\n",
        "# Handle missing values in STATE, LANGUAGE, and GENDER\n",
        "df_users['STATE'].fillna('UNKNOWN', inplace=True)\n",
        "df_users['LANGUAGE'].fillna('UNKNOWN', inplace=True)\n",
        "df_users['GENDER'].fillna('UNKNOWN', inplace=True)\n",
        "\n",
        "# Convert ID to string (if needed)\n",
        "df_users['ID'] = df_users['ID'].astype(str)\n",
        "\n",
        "# Verify changes\n",
        "print(\"\\n Data Types After Conversion (Users):\")\n",
        "print(df_users.dtypes)\n"
      ],
      "metadata": {
        "colab": {
          "base_uri": "https://localhost:8080/"
        },
        "id": "UlVBu0sJR9Tf",
        "outputId": "48fbe642-02dc-49e7-daa7-9a40057b1779"
      },
      "execution_count": 13,
      "outputs": [
        {
          "output_type": "stream",
          "name": "stdout",
          "text": [
            "\n",
            " Data Types After Conversion (Users):\n",
            "ID                           object\n",
            "CREATED_DATE    datetime64[ns, UTC]\n",
            "BIRTH_DATE      datetime64[ns, UTC]\n",
            "STATE                        object\n",
            "LANGUAGE                     object\n",
            "GENDER                       object\n",
            "dtype: object\n"
          ]
        },
        {
          "output_type": "stream",
          "name": "stderr",
          "text": [
            "<ipython-input-13-6419d140415a>:6: FutureWarning: A value is trying to be set on a copy of a DataFrame or Series through chained assignment using an inplace method.\n",
            "The behavior will change in pandas 3.0. This inplace method will never work because the intermediate object on which we are setting values always behaves as a copy.\n",
            "\n",
            "For example, when doing 'df[col].method(value, inplace=True)', try using 'df.method({col: value}, inplace=True)' or df[col] = df[col].method(value) instead, to perform the operation inplace on the original object.\n",
            "\n",
            "\n",
            "  df_users['STATE'].fillna('UNKNOWN', inplace=True)\n",
            "<ipython-input-13-6419d140415a>:7: FutureWarning: A value is trying to be set on a copy of a DataFrame or Series through chained assignment using an inplace method.\n",
            "The behavior will change in pandas 3.0. This inplace method will never work because the intermediate object on which we are setting values always behaves as a copy.\n",
            "\n",
            "For example, when doing 'df[col].method(value, inplace=True)', try using 'df.method({col: value}, inplace=True)' or df[col] = df[col].method(value) instead, to perform the operation inplace on the original object.\n",
            "\n",
            "\n",
            "  df_users['LANGUAGE'].fillna('UNKNOWN', inplace=True)\n",
            "<ipython-input-13-6419d140415a>:8: FutureWarning: A value is trying to be set on a copy of a DataFrame or Series through chained assignment using an inplace method.\n",
            "The behavior will change in pandas 3.0. This inplace method will never work because the intermediate object on which we are setting values always behaves as a copy.\n",
            "\n",
            "For example, when doing 'df[col].method(value, inplace=True)', try using 'df.method({col: value}, inplace=True)' or df[col] = df[col].method(value) instead, to perform the operation inplace on the original object.\n",
            "\n",
            "\n",
            "  df_users['GENDER'].fillna('UNKNOWN', inplace=True)\n"
          ]
        }
      ]
    },
    {
      "cell_type": "code",
      "source": [
        "# Convert BARCODE to string and fill missing values with 'UNKNOWN'\n",
        "df_products['BARCODE'] = df_products['BARCODE'].astype(str).fillna('UNKNOWN')\n",
        "\n",
        "# Handle missing values in categorical columns (replace NaN with 'UNKNOWN')\n",
        "df_products['CATEGORY_1'].fillna('UNKNOWN', inplace=True)\n",
        "df_products['CATEGORY_2'].fillna('UNKNOWN', inplace=True)\n",
        "df_products['CATEGORY_3'].fillna('UNKNOWN', inplace=True)\n",
        "df_products['CATEGORY_4'].fillna('UNKNOWN', inplace=True)\n",
        "df_products['MANUFACTURER'].fillna('UNKNOWN', inplace=True)\n",
        "df_products['BRAND'].fillna('UNKNOWN', inplace=True)\n",
        "\n",
        "# Verify changes\n",
        "print(\"\\n Data Types After Conversion (Products):\")\n",
        "print(df_products.dtypes)\n"
      ],
      "metadata": {
        "colab": {
          "base_uri": "https://localhost:8080/"
        },
        "id": "Mlq48yZmSF1e",
        "outputId": "ae5f8239-0c5b-443f-f281-7d15636b2624"
      },
      "execution_count": 14,
      "outputs": [
        {
          "output_type": "stream",
          "name": "stderr",
          "text": [
            "<ipython-input-14-b450ad5a6e31>:5: FutureWarning: A value is trying to be set on a copy of a DataFrame or Series through chained assignment using an inplace method.\n",
            "The behavior will change in pandas 3.0. This inplace method will never work because the intermediate object on which we are setting values always behaves as a copy.\n",
            "\n",
            "For example, when doing 'df[col].method(value, inplace=True)', try using 'df.method({col: value}, inplace=True)' or df[col] = df[col].method(value) instead, to perform the operation inplace on the original object.\n",
            "\n",
            "\n",
            "  df_products['CATEGORY_1'].fillna('UNKNOWN', inplace=True)\n",
            "<ipython-input-14-b450ad5a6e31>:6: FutureWarning: A value is trying to be set on a copy of a DataFrame or Series through chained assignment using an inplace method.\n",
            "The behavior will change in pandas 3.0. This inplace method will never work because the intermediate object on which we are setting values always behaves as a copy.\n",
            "\n",
            "For example, when doing 'df[col].method(value, inplace=True)', try using 'df.method({col: value}, inplace=True)' or df[col] = df[col].method(value) instead, to perform the operation inplace on the original object.\n",
            "\n",
            "\n",
            "  df_products['CATEGORY_2'].fillna('UNKNOWN', inplace=True)\n",
            "<ipython-input-14-b450ad5a6e31>:7: FutureWarning: A value is trying to be set on a copy of a DataFrame or Series through chained assignment using an inplace method.\n",
            "The behavior will change in pandas 3.0. This inplace method will never work because the intermediate object on which we are setting values always behaves as a copy.\n",
            "\n",
            "For example, when doing 'df[col].method(value, inplace=True)', try using 'df.method({col: value}, inplace=True)' or df[col] = df[col].method(value) instead, to perform the operation inplace on the original object.\n",
            "\n",
            "\n",
            "  df_products['CATEGORY_3'].fillna('UNKNOWN', inplace=True)\n",
            "<ipython-input-14-b450ad5a6e31>:8: FutureWarning: A value is trying to be set on a copy of a DataFrame or Series through chained assignment using an inplace method.\n",
            "The behavior will change in pandas 3.0. This inplace method will never work because the intermediate object on which we are setting values always behaves as a copy.\n",
            "\n",
            "For example, when doing 'df[col].method(value, inplace=True)', try using 'df.method({col: value}, inplace=True)' or df[col] = df[col].method(value) instead, to perform the operation inplace on the original object.\n",
            "\n",
            "\n",
            "  df_products['CATEGORY_4'].fillna('UNKNOWN', inplace=True)\n",
            "<ipython-input-14-b450ad5a6e31>:9: FutureWarning: A value is trying to be set on a copy of a DataFrame or Series through chained assignment using an inplace method.\n",
            "The behavior will change in pandas 3.0. This inplace method will never work because the intermediate object on which we are setting values always behaves as a copy.\n",
            "\n",
            "For example, when doing 'df[col].method(value, inplace=True)', try using 'df.method({col: value}, inplace=True)' or df[col] = df[col].method(value) instead, to perform the operation inplace on the original object.\n",
            "\n",
            "\n",
            "  df_products['MANUFACTURER'].fillna('UNKNOWN', inplace=True)\n"
          ]
        },
        {
          "output_type": "stream",
          "name": "stdout",
          "text": [
            "\n",
            " Data Types After Conversion (Products):\n",
            "CATEGORY_1      object\n",
            "CATEGORY_2      object\n",
            "CATEGORY_3      object\n",
            "CATEGORY_4      object\n",
            "MANUFACTURER    object\n",
            "BRAND           object\n",
            "BARCODE         object\n",
            "dtype: object\n"
          ]
        },
        {
          "output_type": "stream",
          "name": "stderr",
          "text": [
            "<ipython-input-14-b450ad5a6e31>:10: FutureWarning: A value is trying to be set on a copy of a DataFrame or Series through chained assignment using an inplace method.\n",
            "The behavior will change in pandas 3.0. This inplace method will never work because the intermediate object on which we are setting values always behaves as a copy.\n",
            "\n",
            "For example, when doing 'df[col].method(value, inplace=True)', try using 'df.method({col: value}, inplace=True)' or df[col] = df[col].method(value) instead, to perform the operation inplace on the original object.\n",
            "\n",
            "\n",
            "  df_products['BRAND'].fillna('UNKNOWN', inplace=True)\n"
          ]
        }
      ]
    },
    {
      "cell_type": "code",
      "source": [
        "df_transactions.drop_duplicates(inplace=True)\n",
        "df_users.drop_duplicates(inplace=True)\n",
        "df_products.drop_duplicates(inplace=True)\n",
        "\n",
        "print(\"\\n Duplicates Removed!\")\n"
      ],
      "metadata": {
        "colab": {
          "base_uri": "https://localhost:8080/"
        },
        "id": "0RjnU0EH2103",
        "outputId": "adee059d-a81d-4c12-e7ec-9a78f42d505e"
      },
      "execution_count": 15,
      "outputs": [
        {
          "output_type": "stream",
          "name": "stdout",
          "text": [
            "\n",
            " Duplicates Removed!\n"
          ]
        }
      ]
    },
    {
      "cell_type": "code",
      "source": [
        "# Convert text fields to lowercase and strip spaces\n",
        "df_products['BRAND'] = df_products['BRAND'].str.lower().str.strip()\n",
        "df_users['STATE'] = df_users['STATE'].str.title().str.strip()  # Capitalize first letter\n",
        "df_transactions['STORE_NAME'] = df_transactions['STORE_NAME'].str.title().str.strip()\n",
        "\n",
        "print(\"\\n Text Formatting Standardized!\")\n"
      ],
      "metadata": {
        "colab": {
          "base_uri": "https://localhost:8080/"
        },
        "id": "Buulyprh27pW",
        "outputId": "cfa98b29-8ebf-4ed4-e31e-53cbe9bd71dc"
      },
      "execution_count": 16,
      "outputs": [
        {
          "output_type": "stream",
          "name": "stdout",
          "text": [
            "\n",
            " Text Formatting Standardized!\n"
          ]
        }
      ]
    },
    {
      "cell_type": "code",
      "source": [
        "import matplotlib.pyplot as plt\n",
        "\n",
        "# Boxplot to detect extreme values\n",
        "plt.figure(figsize=(10, 5))\n",
        "plt.boxplot(df_transactions['FINAL_QUANTITY'].dropna(), vert=False)\n",
        "plt.title(\"Outlier Detection: FINAL_QUANTITY\")\n",
        "plt.show()\n"
      ],
      "metadata": {
        "colab": {
          "base_uri": "https://localhost:8080/",
          "height": 468
        },
        "id": "5GbhrR-53Ea0",
        "outputId": "046dca36-939f-4de7-d008-2b9b6a60f31f"
      },
      "execution_count": 17,
      "outputs": [
        {
          "output_type": "display_data",
          "data": {
            "text/plain": [
              "<Figure size 1000x500 with 1 Axes>"
            ],
            "image/png": "[encoded data removed]"
          },
          "metadata": {}
        }
      ]
    },
    {
      "cell_type": "code",
      "source": [
        "# Identify the outlier by checking values outside the IQR\n",
        "Q1 = df_transactions['FINAL_QUANTITY'].quantile(0.25)\n",
        "Q3 = df_transactions['FINAL_QUANTITY'].quantile(0.75)\n",
        "IQR = Q3 - Q1\n",
        "\n",
        "# Define outlier thresholds\n",
        "lower_bound = Q1 - 1.5 * IQR\n",
        "upper_bound = Q3 + 1.5 * IQR\n",
        "\n",
        "# Find the outlier values\n",
        "outliers = pd.concat([\n",
        "    df_transactions[df_transactions['FINAL_QUANTITY'] < lower_bound],\n",
        "    df_transactions[df_transactions['FINAL_QUANTITY'] > upper_bound]\n",
        "])\n",
        "\n",
        "# Show outliers\n",
        "print(outliers)\n"
      ],
      "metadata": {
        "colab": {
          "base_uri": "https://localhost:8080/"
        },
        "id": "w6zvwaC3SiUV",
        "outputId": "138ac195-09b7-4eac-fe00-f9b7cb4aecff"
      },
      "execution_count": 19,
      "outputs": [
        {
          "output_type": "stream",
          "name": "stdout",
          "text": [
            "                                 RECEIPT_ID PURCHASE_DATE  \\\n",
            "3878   277b1f93-4de0-47bf-a094-319de868e601    2024-08-26   \n",
            "6046   3dbe1f4c-6649-47b0-8328-7fc893efbb31    2024-07-07   \n",
            "6810   459b41f8-ab7d-4569-9b0b-364e2dd97486    2024-06-13   \n",
            "7986   52660cb5-3c6a-42be-aa87-97055c93c6cb    2024-08-08   \n",
            "14594  94ff9978-d7ea-43bc-8c02-b9ccae985442    2024-07-01   \n",
            "...                                     ...           ...   \n",
            "49955  f42b2d83-7473-45c0-9166-cfe632b46055    2024-06-29   \n",
            "49965  dd129325-29f7-432b-a905-4d6e3d37f7b2    2024-08-26   \n",
            "49981  660145af-c343-427e-ab06-f12839e6b15a    2024-07-10   \n",
            "49984  e3913e59-c656-438a-84bd-4da4397f956d    2024-07-31   \n",
            "49995  b5cd61a9-8033-4913-a5c4-fb3f65e3a321    2024-08-21   \n",
            "\n",
            "                             SCAN_DATE            STORE_NAME  \\\n",
            "3878  2024-08-26 11:56:03.764000+00:00                Meijer   \n",
            "6046  2024-07-08 20:58:08.868000+00:00        Key Food Fresh   \n",
            "6810  2024-06-13 21:59:17.239000+00:00               Walmart   \n",
            "7986  2024-08-08 18:34:12.588000+00:00               Walmart   \n",
            "14594 2024-07-13 13:21:06.665000+00:00  Fairplay Finer Foods   \n",
            "...                                ...                   ...   \n",
            "49955 2024-07-01 07:21:10.312000+00:00             Food City   \n",
            "49965 2024-08-26 09:39:37.299000+00:00           Fiesta Mart   \n",
            "49981 2024-07-10 20:39:31.444000+00:00                  Acme   \n",
            "49984 2024-08-03 12:00:17.620000+00:00           Winco Foods   \n",
            "49995 2024-08-31 14:13:08.634000+00:00                Target   \n",
            "\n",
            "                        USER_ID         BARCODE  FINAL_QUANTITY  FINAL_SALE  \n",
            "3878   5fa7cf2a974a6c126e73e84c         40945.0            0.23         NaN  \n",
            "6046   5f299c8180f26b20811a4e70         40945.0            0.09         NaN  \n",
            "6810   62a28fae1f9dbf1584c6bf58   29000076501.0            0.62         NaN  \n",
            "7986   63a4827cb5f32149b9d7b423  262891000006.0            0.51         NaN  \n",
            "14594  63420cbe34de29ce9a621764  203107000007.0            0.86         NaN  \n",
            "...                         ...             ...             ...         ...  \n",
            "49955  619dab3e6f1d182a23c75ea7   21000026326.0            2.00        8.00  \n",
            "49965  65eb5a1e7756e548cb83405c  511111001768.0            2.00        0.98  \n",
            "49981  64b37e13480825afb3d4b3d7   50000110810.0            2.00        8.98  \n",
            "49984  62e34d72a6565cf0534b15a1   72220009910.0            2.00       11.96  \n",
            "49995  6154bcf098f885648de2f299   85239110669.0            2.00        1.18  \n",
            "\n",
            "[1587 rows x 8 columns]\n"
          ]
        }
      ]
    },
    {
      "cell_type": "code",
      "source": [],
      "metadata": {
        "id": "G8gF3wKSVVj4"
      },
      "execution_count": null,
      "outputs": []
    },
    {
      "cell_type": "code",
      "source": [
        "# Cap outliers to the IQR bounds\n",
        "df_transactions['FINAL_QUANTITY'] = df_transactions['FINAL_QUANTITY'].clip(lower=lower_bound, upper=upper_bound)\n"
      ],
      "metadata": {
        "id": "X2RQyKZ43I-4"
      },
      "execution_count": 20,
      "outputs": []
    },
    {
      "cell_type": "code",
      "source": [
        "# Convert BARCODE to string to preserve leading zeros\n",
        "df_transactions['BARCODE'] = df_transactions['BARCODE'].astype(str).str.zfill(12)  # Adjust 12 to the required length\n",
        "df_products['BARCODE'] = df_products['BARCODE'].astype(str).str.zfill(12)"
      ],
      "metadata": {
        "id": "MCucaaLSVWMT"
      },
      "execution_count": 22,
      "outputs": []
    },
    {
      "cell_type": "code",
      "source": [
        "df_transactions.to_csv(\"transactions_cleaned.csv\", index=False)\n",
        "df_users.to_csv(\"users_cleaned.csv\", index=False)\n",
        "df_products.to_csv(\"products_cleaned.csv\", index=False)\n",
        "\n",
        "print(\"\\n Cleaned Data Saved!\")\n"
      ],
      "metadata": {
        "id": "JIF_OP5D3T44"
      },
      "execution_count": 24,
      "outputs": []
    },
    {
      "cell_type": "code",
      "source": [],
      "metadata": {
        "id": "gLlEiycx3hRc"
      },
      "execution_count": null,
      "outputs": []
    }
  ]
}